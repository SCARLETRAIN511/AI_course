{
 "cells": [
  {
   "cell_type": "markdown",
   "metadata": {
    "deletable": false,
    "editable": false,
    "nbgrader": {
     "grade": false,
     "locked": true,
     "solution": false
    }
   },
   "source": [
    "# Excercise 1: Factorial"
   ]
  },
  {
   "cell_type": "markdown",
   "metadata": {
    "deletable": false,
    "editable": false,
    "nbgrader": {
     "grade": false,
     "locked": true,
     "solution": false
    }
   },
   "source": [
    "In this simple diagnostic excercise you will have to use conditionals, loops and ValueError. Your task is to <b>create a function to calculate a factorial of a number, using a loop</b>. Raise ValueError if the number is non-negative.\n",
    "\n",
    "<b>The mark of this excercise does not count toward your final grade, but submission is compulsory.</b>\n",
    "\n",
    "There are 4 autograded tests, you can see all of them (i.e. no hidden tests). You can submit unlimited number of times. After each submission, you will be able to see marks and feedback in the Grading Report (View->Grading Report).\n",
    "\n",
    "Any changes that you make outside of the designated lines will be overwritten on submission."
   ]
  },
  {
   "cell_type": "code",
   "execution_count": 1,
   "metadata": {},
   "outputs": [],
   "source": [
    "def factorial(number):\n",
    "    ###\n",
    "    ### YOUR CODE HERE\n",
    "    if (number < 0):\n",
    "        raise ValueError\n",
    "    result = 1\n",
    "    for i in range(1, number + 1):\n",
    "        result *= i\n",
    "    ###\n",
    "    return result"
   ]
  },
  {
   "cell_type": "code",
   "execution_count": 2,
   "metadata": {
    "deletable": false,
    "editable": false,
    "nbgrader": {
     "grade": true,
     "grade_id": "values",
     "locked": true,
     "points": "2",
     "solution": false
    }
   },
   "outputs": [],
   "source": [
    "#Test 1 and 2 - checking the result\n",
    "from nose.tools import assert_equal\n",
    "from math import factorial as mfact \n",
    "assert_equal(factorial(2),2)\n",
    "assert_equal(factorial(10),mfact(10))"
   ]
  },
  {
   "cell_type": "code",
   "execution_count": 3,
   "metadata": {
    "deletable": false,
    "editable": false,
    "nbgrader": {
     "grade": true,
     "grade_id": "exceptions",
     "locked": true,
     "points": "1",
     "solution": false
    }
   },
   "outputs": [],
   "source": [
    "#Test3 - check presence of error assertion\n",
    "from nose.tools import assert_raises\n",
    "assert_raises(ValueError,factorial,-2)"
   ]
  },
  {
   "cell_type": "code",
   "execution_count": 4,
   "metadata": {
    "collapsed": true,
    "deletable": false,
    "editable": false,
    "nbgrader": {
     "grade": true,
     "grade_id": "math_factorial",
     "locked": true,
     "points": "1",
     "solution": false
    }
   },
   "outputs": [],
   "source": [
    "#Test 4 - check that inbuilt math.factorial is not used\n",
    "from unittest.mock import patch\n",
    "with patch('math.factorial') as mock_factorial:\n",
    "    factorial(3)\n",
    "mock_factorial.assert_not_called()#check that inbuilt math factorial not used"
   ]
  }
 ],
 "metadata": {
  "kernelspec": {
   "display_name": "Python 3 (ipykernel)",
   "language": "python",
   "name": "python3"
  },
  "language_info": {
   "codemirror_mode": {
    "name": "ipython",
    "version": 3
   },
   "file_extension": ".py",
   "mimetype": "text/x-python",
   "name": "python",
   "nbconvert_exporter": "python",
   "pygments_lexer": "ipython3",
   "version": "3.9.7"
  }
 },
 "nbformat": 4,
 "nbformat_minor": 2
}
