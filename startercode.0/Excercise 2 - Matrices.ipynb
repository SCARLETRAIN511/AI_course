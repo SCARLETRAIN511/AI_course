{
    "cells": [
        {
            "cell_type": "markdown",
            "metadata": {
                "nbgrader": {
                    "grade": false,
                    "locked": true,
                    "solution": false
                },
                "editable": false,
                "deletable": false
            },
            "source": [
                "# Excercise 2: Matrices"
            ]
        },
        {
            "cell_type": "markdown",
            "metadata": {
                "nbgrader": {
                    "grade": false,
                    "locked": true,
                    "solution": false
                },
                "editable": false,
                "deletable": false
            },
            "source": [
                "Consider the Vandermonde matrix given by:\n",
                "\n",
                "$V =  \\left[ \\begin{array}{cccc}\n",
                "1 & x_1 & x_1^2 & x_1^3  \\\\\n",
                "1 & x_2 & x_2^2 & x_2^3 \\\\\n",
                "1 & x_3 & x_3^2 & x_3^3 \\end{array} \\right]$\n",
                "\n",
                "Code has already been provided to define a function named Vandermonde that accepts an N-element vector and assigns it to the variable x. Add commands to generate the Vandermonde matrix from this vector and assign it to the output variable V. For example, if x = [2 3 4], then the resulting matrix, V would be:\n",
                "\n",
                "$V =  \\left[ \\begin{array}{cccc}\n",
                "1 & 2 & 4 & 8  \\\\\n",
                "1 & 3 & 9 & 27 \\\\\n",
                "1 & 4 & 16 & 64 \\end{array} \\right]$\n",
                "\n",
                "Solve this problem using vectorized code (i.e. do not use a loop in your solution.)  Note the variable x is defined as a function input.  Do not overwrite the value in your code."
            ]
        },
        {
            "cell_type": "markdown",
            "metadata": {
                "nbgrader": {
                    "grade": false,
                    "locked": true,
                    "solution": false
                },
                "editable": false,
                "deletable": false
            },
            "source": [
                "<b>The mark of this excercise does not count toward your final grade, but submission is compulsory.<\/b>\n",
                "\n",
                "There are 4 autograded tests, you can see all of them (i.e. no hidden tests). You can submit unlimited number of times. After each submission, you will be able to see marks and feedback in the Grading Report (View->Grading Report).\n",
                "\n",
                "Any changes that you make outside of the designated lines will be overwritten on submission."
            ]
        },
        {
            "cell_type": "code",
            "execution_count": null,
            "metadata": {
                "collapsed": true,
                "nbgrader": {
                    "grade": false,
                    "locked": true,
                    "solution": false
                },
                "editable": false,
                "deletable": false
            },
            "outputs": [],
            "source": [
                "import numpy as np"
            ]
        },
        {
            "cell_type": "code",
            "execution_count": 51,
            "metadata": {},
            "outputs": [],
            "source": [
                "def Vandermonde(numbers):\n",
                "    ###\n",
                "    ### YOUR CODE HERE\n",
                "    ###\n",
                "    return v\n",
                "Vandermonde([2,3,4])#call your function here"
            ]
        },
        {
            "cell_type": "code",
            "execution_count": 52,
            "metadata": {
                "collapsed": true,
                "nbgrader": {
                    "grade": true,
                    "grade_id": "vandvalues",
                    "locked": true,
                    "points": "2",
                    "solution": false
                },
                "editable": false,
                "deletable": false
            },
            "outputs": [],
            "source": [
                "#Test 1 and 2 - checking the result\n",
                "np.testing.assert_array_equal(Vandermonde([4,5,6]),np.vander([4,5,6], N=4, increasing=True))\n",
                "np.testing.assert_array_equal(Vandermonde([0,-1,3,5]),np.vander([0,-1,3,5], N=4, increasing=True))"
            ]
        },
        {
            "cell_type": "code",
            "execution_count": 53,
            "metadata": {
                "collapsed": true,
                "nbgrader": {
                    "grade": true,
                    "grade_id": "np.vand",
                    "locked": true,
                    "points": "1",
                    "solution": false
                },
                "editable": false,
                "deletable": false
            },
            "outputs": [],
            "source": [
                "#Test 3 - check that inbuilt numpy.vander is not used\n",
                "from unittest.mock import patch\n",
                "with patch('numpy.vander') as inbuiltVand:\n",
                "    Vandermonde([1,2,3])\n",
                "inbuiltVand.assert_not_called()#check that inbuilt math factorial not used"
            ]
        }
    ],
    "metadata": {
        "kernelspec": {
            "display_name": "Python 3.8",
            "language": "python",
            "name": "python38"
        },
        "language_info": {
            "codemirror_mode": {
                "name": "ipython",
                "version": 3
            },
            "file_extension": ".py",
            "mimetype": "text\/x-python",
            "name": "python",
            "nbconvert_exporter": "python",
            "pygments_lexer": "ipython3",
            "version": "3.8.7"
        }
    },
    "nbformat": 4,
    "nbformat_minor": 2
}